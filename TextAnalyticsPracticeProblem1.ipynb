{
 "cells": [
  {
   "cell_type": "markdown",
   "metadata": {},
   "source": [
    "Practice Problem 1 from https://www.csc2.ncsu.edu/faculty/healey/msa/text/\n",
    "\n",
    "Convert the text below into four separate text representations:\n",
    "-character\n",
    "-term\n",
    "-bigram, pairs of adjacent terms\n",
    "-term with appropriate part-of-speech disambiguation\n",
    "\n",
    "You can use Python's nltk or spaCy libraries to assign part-of-speech tags to terms in a term list."
   ]
  },
  {
   "cell_type": "code",
   "execution_count": 1,
   "metadata": {},
   "outputs": [],
   "source": [
    "of_mice_and_men = \"Two men, dressed in denim jackets and trousers and wearing 'black, shapeless hats,' walk single-file down a path near the pool. Both men carry blanket rolls — called bindles — on their shoulders. The smaller, wiry man is George Milton. Behind him is Lennie Small, a huge man with large eyes and sloping shoulders, walking at a gait that makes him resemble a huge bear. When Lennie drops near the pool's edge and begins to drink like a hungry animal, George cautions him that the water may not be good. This advice is necessary because Lennie is retarded and doesn't realize the possible dangers. The two are on their way to a ranch where they can get temporary work, and George warns Lennie not to say anything when they arrive. Because Lennie forgets things very quickly, George must make him repeat even the simplest instructions. Lennie also likes to pet soft things. In his pocket, he has a dead mouse which George confiscates and throws into the weeds beyond the pond. Lennie retrieves the dead mouse, and George once again catches him and gives Lennie a lecture about the trouble he causes when he wants to pet soft things (they were run out of the last town because Lennie touched a girl's soft dress, and she screamed). Lennie offers to leave and go live in a cave, causing George to soften his complaint and tell Lennie perhaps they can get him a puppy that can withstand Lennie's petting. As they get ready to eat and sleep for the night, Lennie asks George to repeat their dream of having their own ranch where Lennie will be able to tend rabbits. George does so and then warns Lennie that, if anything bad happens, Lennie is to come back to this spot and hide in the brush. Before George falls asleep, Lennie tells him they must have many rabbits of various colors.\""
   ]
  },
  {
   "cell_type": "code",
   "execution_count": 2,
   "metadata": {},
   "outputs": [
    {
     "name": "stdout",
     "output_type": "stream",
     "text": [
      "[('two', 'CD'), ('men', 'NNS'), ('dressed', 'VBN'), ('in', 'IN'), ('denim', 'JJ'), ('jackets', 'NNS'), ('and', 'CC'), ('trousers', 'NNS'), ('and', 'CC'), ('wearing', 'VBG'), ('black', 'JJ'), ('shapeless', 'NN'), ('hats', 'NNS'), ('walk', 'VBP'), ('singlefile', 'RB'), ('down', 'RP'), ('a', 'DT'), ('path', 'NN'), ('near', 'IN'), ('the', 'DT'), ('pool', 'NN'), ('both', 'DT'), ('men', 'NNS'), ('carry', 'VBP'), ('blanket', 'NN'), ('rolls', 'NNS'), ('', 'VBP'), ('called', 'VBN'), ('bindles', 'NNS'), ('', 'RBR'), ('on', 'IN'), ('their', 'PRP$'), ('shoulders', 'NNS'), ('the', 'DT'), ('smaller', 'JJR'), ('wiry', 'JJ'), ('man', 'NN'), ('is', 'VBZ'), ('george', 'JJ'), ('milton', 'NNP'), ('behind', 'IN'), ('him', 'PRP'), ('is', 'VBZ'), ('lennie', 'RB'), ('small', 'JJ'), ('a', 'DT'), ('huge', 'JJ'), ('man', 'NN'), ('with', 'IN'), ('large', 'JJ'), ('eyes', 'NNS'), ('and', 'CC'), ('sloping', 'VBG'), ('shoulders', 'NNS'), ('walking', 'VBG'), ('at', 'IN'), ('a', 'DT'), ('gait', 'NN'), ('that', 'WDT'), ('makes', 'VBZ'), ('him', 'PRP'), ('resemble', 'VB'), ('a', 'DT'), ('huge', 'JJ'), ('bear', 'NN'), ('when', 'WRB'), ('lennie', 'NN'), ('drops', 'NNS'), ('near', 'IN'), ('the', 'DT'), ('pools', 'NNS'), ('edge', 'NN'), ('and', 'CC'), ('begins', 'VBZ'), ('to', 'TO'), ('drink', 'VB'), ('like', 'IN'), ('a', 'DT'), ('hungry', 'JJ'), ('animal', 'NN'), ('george', 'NN'), ('cautions', 'NNS'), ('him', 'PRP'), ('that', 'IN'), ('the', 'DT'), ('water', 'NN'), ('may', 'MD'), ('not', 'RB'), ('be', 'VB'), ('good', 'JJ'), ('this', 'DT'), ('advice', 'NN'), ('is', 'VBZ'), ('necessary', 'JJ'), ('because', 'IN'), ('lennie', 'NN'), ('is', 'VBZ'), ('retarded', 'VBN'), ('and', 'CC'), ('doesnt', 'JJ'), ('realize', 'VB'), ('the', 'DT'), ('possible', 'JJ'), ('dangers', 'NNS'), ('the', 'DT'), ('two', 'CD'), ('are', 'VBP'), ('on', 'IN'), ('their', 'PRP$'), ('way', 'NN'), ('to', 'TO'), ('a', 'DT'), ('ranch', 'NN'), ('where', 'WRB'), ('they', 'PRP'), ('can', 'MD'), ('get', 'VB'), ('temporary', 'JJ'), ('work', 'NN'), ('and', 'CC'), ('george', 'NN'), ('warns', 'NNS'), ('lennie', 'VBZ'), ('not', 'RB'), ('to', 'TO'), ('say', 'VB'), ('anything', 'NN'), ('when', 'WRB'), ('they', 'PRP'), ('arrive', 'VBP'), ('because', 'IN'), ('lennie', 'JJ'), ('forgets', 'NNS'), ('things', 'NNS'), ('very', 'RB'), ('quickly', 'RB'), ('george', 'NN'), ('must', 'MD'), ('make', 'VB'), ('him', 'PRP'), ('repeat', 'VB'), ('even', 'RB'), ('the', 'DT'), ('simplest', 'JJS'), ('instructions', 'NNS'), ('lennie', 'NN'), ('also', 'RB'), ('likes', 'VBZ'), ('to', 'TO'), ('pet', 'VB'), ('soft', 'JJ'), ('things', 'NNS'), ('in', 'IN'), ('his', 'PRP$'), ('pocket', 'NN'), ('he', 'PRP'), ('has', 'VBZ'), ('a', 'DT'), ('dead', 'JJ'), ('mouse', 'NN'), ('which', 'WDT'), ('george', 'NN'), ('confiscates', 'NNS'), ('and', 'CC'), ('throws', 'VBZ'), ('into', 'IN'), ('the', 'DT'), ('weeds', 'NNS'), ('beyond', 'IN'), ('the', 'DT'), ('pond', 'NN'), ('lennie', 'NN'), ('retrieves', 'VBZ'), ('the', 'DT'), ('dead', 'JJ'), ('mouse', 'NN'), ('and', 'CC'), ('george', 'NN'), ('once', 'RB'), ('again', 'RB'), ('catches', 'VBZ'), ('him', 'PRP'), ('and', 'CC'), ('gives', 'VBZ'), ('lennie', 'VBP'), ('a', 'DT'), ('lecture', 'NN'), ('about', 'IN'), ('the', 'DT'), ('trouble', 'NN'), ('he', 'PRP'), ('causes', 'VBZ'), ('when', 'WRB'), ('he', 'PRP'), ('wants', 'VBZ'), ('to', 'TO'), ('pet', 'VB'), ('soft', 'JJ'), ('things', 'NNS'), ('they', 'PRP'), ('were', 'VBD'), ('run', 'VBN'), ('out', 'IN'), ('of', 'IN'), ('the', 'DT'), ('last', 'JJ'), ('town', 'NN'), ('because', 'IN'), ('lennie', 'NN'), ('touched', 'VBD'), ('a', 'DT'), ('girls', 'NNS'), ('soft', 'JJ'), ('dress', 'NN'), ('and', 'CC'), ('she', 'PRP'), ('screamed', 'VBD'), ('lennie', 'JJ'), ('offers', 'NNS'), ('to', 'TO'), ('leave', 'VB'), ('and', 'CC'), ('go', 'VB'), ('live', 'JJ'), ('in', 'IN'), ('a', 'DT'), ('cave', 'NN'), ('causing', 'VBG'), ('george', 'NN'), ('to', 'TO'), ('soften', 'VB'), ('his', 'PRP$'), ('complaint', 'NN'), ('and', 'CC'), ('tell', 'VB'), ('lennie', 'JJR'), ('perhaps', 'RB'), ('they', 'PRP'), ('can', 'MD'), ('get', 'VB'), ('him', 'PRP'), ('a', 'DT'), ('puppy', 'NN'), ('that', 'WDT'), ('can', 'MD'), ('withstand', 'VB'), ('lennies', 'NNS'), ('petting', 'VBG'), ('as', 'IN'), ('they', 'PRP'), ('get', 'VBP'), ('ready', 'JJ'), ('to', 'TO'), ('eat', 'VB'), ('and', 'CC'), ('sleep', 'VB'), ('for', 'IN'), ('the', 'DT'), ('night', 'NN'), ('lennie', 'NN'), ('asks', 'VBZ'), ('george', 'NN'), ('to', 'TO'), ('repeat', 'VB'), ('their', 'PRP$'), ('dream', 'NN'), ('of', 'IN'), ('having', 'VBG'), ('their', 'PRP$'), ('own', 'JJ'), ('ranch', 'NN'), ('where', 'WRB'), ('lennie', 'NN'), ('will', 'MD'), ('be', 'VB'), ('able', 'JJ'), ('to', 'TO'), ('tend', 'VB'), ('rabbits', 'NNS'), ('george', 'NN'), ('does', 'VBZ'), ('so', 'RB'), ('and', 'CC'), ('then', 'RB'), ('warns', 'VBZ'), ('lennie', 'NN'), ('that', 'IN'), ('if', 'IN'), ('anything', 'NN'), ('bad', 'JJ'), ('happens', 'VBZ'), ('lennie', 'NN'), ('is', 'VBZ'), ('to', 'TO'), ('come', 'VB'), ('back', 'RB'), ('to', 'TO'), ('this', 'DT'), ('spot', 'NN'), ('and', 'CC'), ('hide', 'NN'), ('in', 'IN'), ('the', 'DT'), ('brush', 'NN'), ('before', 'IN'), ('george', 'NN'), ('falls', 'VBZ'), ('asleep', 'JJ'), ('lennie', 'NN'), ('tells', 'VBZ'), ('him', 'PRP'), ('they', 'PRP'), ('must', 'MD'), ('have', 'VB'), ('many', 'JJ'), ('rabbits', 'NNS'), ('of', 'IN'), ('various', 'JJ'), ('colors', 'NNS')]\n",
      "Character frequency\n",
      "{'t': 115, 'w': 27, 'o': 85, ' ': 318, 'm': 31, 'e': 214, 'n': 122, ',': 17, 'd': 50, 'r': 77, 's': 103, 'i': 92, 'j': 1, 'a': 118, 'c': 34, 'k': 15, 'u': 27, 'g': 50, \"'\": 6, 'b': 26, 'l': 68, 'h': 81, 'p': 27, '-': 1, 'f': 16, '.': 15, 'y': 23, '—': 2, 'v': 12, 'z': 1, 'q': 1, '(': 1, ')': 1}\n",
      "Character frequency w/o punctuation\n",
      "{'t': 115, 'w': 27, 'o': 85, ' ': 318, 'm': 31, 'e': 214, 'n': 122, 'd': 50, 'r': 77, 's': 103, 'i': 92, 'j': 1, 'a': 118, 'c': 34, 'k': 15, 'u': 27, 'g': 50, 'b': 26, 'l': 68, 'h': 81, 'p': 27, 'f': 16, 'y': 23, 'v': 12, 'z': 1, 'q': 1}\n"
     ]
    }
   ],
   "source": [
    "import nltk\n",
    "import re\n",
    "from collections import Counter\n",
    "#nltk.download( 'averaged_perceptron_tagger' )\n",
    "#lower case and remove punctuation\n",
    "nopunc_ofmiceandmen = of_mice_and_men.lower()\n",
    "clean_ofmiceandmen = re.sub( r'[^\\w\\s]', '', nopunc_ofmiceandmen)\n",
    "tok = clean_ofmiceandmen.split( ' ' )\n",
    "POS = nltk.pos_tag( tok )\n",
    "print( POS )\n",
    "\n",
    "char_dict = dict( Counter( list( nopunc_ofmiceandmen ) ) )\n",
    "char_dict_no_punc = dict( Counter( list( clean_ofmiceandmen ) ) )\n",
    "\n",
    "print( 'Character frequency' )\n",
    "print( char_dict )\n",
    "print( 'Character frequency w/o punctuation' )\n",
    "print( char_dict_no_punc )"
   ]
  },
  {
   "cell_type": "code",
   "execution_count": 3,
   "metadata": {},
   "outputs": [
    {
     "name": "stdout",
     "output_type": "stream",
     "text": [
      "[('Two', 'NUM'), ('men', 'NOUN'), (',', 'PUNCT'), ('dressed', 'VERB'), ('in', 'ADP'), ('denim', 'ADJ'), ('jackets', 'NOUN'), ('and', 'CCONJ'), ('trousers', 'NOUN'), ('and', 'CCONJ'), ('wearing', 'VERB'), (\"'\", 'PUNCT'), ('black', 'ADJ'), (',', 'PUNCT'), ('shapeless', 'ADJ'), ('hats', 'NOUN'), (',', 'PUNCT'), (\"'\", 'PUNCT'), ('walk', 'VERB'), ('single', 'ADJ'), ('-', 'PUNCT'), ('file', 'NOUN'), ('down', 'ADP'), ('a', 'DET'), ('path', 'NOUN'), ('near', 'ADP'), ('the', 'DET'), ('pool', 'NOUN'), ('.', 'PUNCT'), ('Both', 'DET'), ('men', 'NOUN'), ('carry', 'VERB'), ('blanket', 'NOUN'), ('rolls', 'NOUN'), ('—', 'PUNCT'), ('called', 'VERB'), ('bindles', 'NOUN'), ('—', 'PUNCT'), ('on', 'ADP'), ('their', 'PRON'), ('shoulders', 'NOUN'), ('.', 'PUNCT'), ('The', 'DET'), ('smaller', 'ADJ'), (',', 'PUNCT'), ('wiry', 'ADJ'), ('man', 'NOUN'), ('is', 'AUX'), ('George', 'PROPN'), ('Milton', 'PROPN'), ('.', 'PUNCT'), ('Behind', 'ADP'), ('him', 'PRON'), ('is', 'AUX'), ('Lennie', 'PROPN'), ('Small', 'PROPN'), (',', 'PUNCT'), ('a', 'DET'), ('huge', 'ADJ'), ('man', 'NOUN'), ('with', 'ADP'), ('large', 'ADJ'), ('eyes', 'NOUN'), ('and', 'CCONJ'), ('sloping', 'VERB'), ('shoulders', 'NOUN'), (',', 'PUNCT'), ('walking', 'VERB'), ('at', 'ADP'), ('a', 'DET'), ('gait', 'NOUN'), ('that', 'PRON'), ('makes', 'VERB'), ('him', 'PRON'), ('resemble', 'VERB'), ('a', 'DET'), ('huge', 'ADJ'), ('bear', 'NOUN'), ('.', 'PUNCT'), ('When', 'SCONJ'), ('Lennie', 'PROPN'), ('drops', 'VERB'), ('near', 'ADP'), ('the', 'DET'), ('pool', 'NOUN'), (\"'s\", 'PART'), ('edge', 'NOUN'), ('and', 'CCONJ'), ('begins', 'VERB'), ('to', 'PART'), ('drink', 'VERB'), ('like', 'ADP'), ('a', 'DET'), ('hungry', 'ADJ'), ('animal', 'NOUN'), (',', 'PUNCT'), ('George', 'PROPN'), ('cautions', 'VERB'), ('him', 'PRON'), ('that', 'SCONJ'), ('the', 'DET'), ('water', 'NOUN'), ('may', 'AUX'), ('not', 'PART'), ('be', 'AUX'), ('good', 'ADJ'), ('.', 'PUNCT'), ('This', 'DET'), ('advice', 'NOUN'), ('is', 'AUX'), ('necessary', 'ADJ'), ('because', 'SCONJ'), ('Lennie', 'PROPN'), ('is', 'AUX'), ('retarded', 'ADJ'), ('and', 'CCONJ'), ('does', 'AUX'), (\"n't\", 'PART'), ('realize', 'VERB'), ('the', 'DET'), ('possible', 'ADJ'), ('dangers', 'NOUN'), ('.', 'PUNCT'), ('The', 'DET'), ('two', 'NUM'), ('are', 'AUX'), ('on', 'ADP'), ('their', 'PRON'), ('way', 'NOUN'), ('to', 'ADP'), ('a', 'DET'), ('ranch', 'NOUN'), ('where', 'SCONJ'), ('they', 'PRON'), ('can', 'AUX'), ('get', 'VERB'), ('temporary', 'ADJ'), ('work', 'NOUN'), (',', 'PUNCT'), ('and', 'CCONJ'), ('George', 'PROPN'), ('warns', 'VERB'), ('Lennie', 'PROPN'), ('not', 'PART'), ('to', 'PART'), ('say', 'VERB'), ('anything', 'PRON'), ('when', 'SCONJ'), ('they', 'PRON'), ('arrive', 'VERB'), ('.', 'PUNCT'), ('Because', 'SCONJ'), ('Lennie', 'PROPN'), ('forgets', 'VERB'), ('things', 'NOUN'), ('very', 'ADV'), ('quickly', 'ADV'), (',', 'PUNCT'), ('George', 'PROPN'), ('must', 'AUX'), ('make', 'VERB'), ('him', 'PRON'), ('repeat', 'VERB'), ('even', 'ADV'), ('the', 'DET'), ('simplest', 'ADJ'), ('instructions', 'NOUN'), ('.', 'PUNCT'), ('Lennie', 'PROPN'), ('also', 'ADV'), ('likes', 'VERB'), ('to', 'ADP'), ('pet', 'ADJ'), ('soft', 'ADJ'), ('things', 'NOUN'), ('.', 'PUNCT'), ('In', 'ADP'), ('his', 'PRON'), ('pocket', 'NOUN'), (',', 'PUNCT'), ('he', 'PRON'), ('has', 'VERB'), ('a', 'DET'), ('dead', 'ADJ'), ('mouse', 'NOUN'), ('which', 'PRON'), ('George', 'PROPN'), ('confiscates', 'VERB'), ('and', 'CCONJ'), ('throws', 'VERB'), ('into', 'ADP'), ('the', 'DET'), ('weeds', 'NOUN'), ('beyond', 'ADP'), ('the', 'DET'), ('pond', 'NOUN'), ('.', 'PUNCT'), ('Lennie', 'PROPN'), ('retrieves', 'VERB'), ('the', 'DET'), ('dead', 'ADJ'), ('mouse', 'NOUN'), (',', 'PUNCT'), ('and', 'CCONJ'), ('George', 'PROPN'), ('once', 'ADV'), ('again', 'ADV'), ('catches', 'VERB'), ('him', 'PRON'), ('and', 'CCONJ'), ('gives', 'VERB'), ('Lennie', 'PROPN'), ('a', 'DET'), ('lecture', 'NOUN'), ('about', 'ADP'), ('the', 'DET'), ('trouble', 'NOUN'), ('he', 'PRON'), ('causes', 'VERB'), ('when', 'SCONJ'), ('he', 'PRON'), ('wants', 'VERB'), ('to', 'PART'), ('pet', 'VERB'), ('soft', 'ADJ'), ('things', 'NOUN'), ('(', 'PUNCT'), ('they', 'PRON'), ('were', 'AUX'), ('run', 'VERB'), ('out', 'ADP'), ('of', 'ADP'), ('the', 'DET'), ('last', 'ADJ'), ('town', 'NOUN'), ('because', 'SCONJ'), ('Lennie', 'PROPN'), ('touched', 'VERB'), ('a', 'DET'), ('girl', 'NOUN'), (\"'s\", 'PART'), ('soft', 'ADJ'), ('dress', 'NOUN'), (',', 'PUNCT'), ('and', 'CCONJ'), ('she', 'PRON'), ('screamed', 'VERB'), (')', 'PUNCT'), ('.', 'PUNCT'), ('Lennie', 'PROPN'), ('offers', 'VERB'), ('to', 'PART'), ('leave', 'VERB'), ('and', 'CCONJ'), ('go', 'VERB'), ('live', 'ADV'), ('in', 'ADP'), ('a', 'DET'), ('cave', 'NOUN'), (',', 'PUNCT'), ('causing', 'VERB'), ('George', 'PROPN'), ('to', 'PART'), ('soften', 'VERB'), ('his', 'PRON'), ('complaint', 'NOUN'), ('and', 'CCONJ'), ('tell', 'VERB'), ('Lennie', 'PROPN'), ('perhaps', 'ADV'), ('they', 'PRON'), ('can', 'AUX'), ('get', 'VERB'), ('him', 'PRON'), ('a', 'DET'), ('puppy', 'NOUN'), ('that', 'PRON'), ('can', 'AUX'), ('withstand', 'VERB'), ('Lennie', 'PROPN'), (\"'s\", 'PART'), ('petting', 'NOUN'), ('.', 'PUNCT'), ('As', 'SCONJ'), ('they', 'PRON'), ('get', 'VERB'), ('ready', 'ADJ'), ('to', 'PART'), ('eat', 'VERB'), ('and', 'CCONJ'), ('sleep', 'VERB'), ('for', 'ADP'), ('the', 'DET'), ('night', 'NOUN'), (',', 'PUNCT'), ('Lennie', 'PROPN'), ('asks', 'VERB'), ('George', 'PROPN'), ('to', 'PART'), ('repeat', 'VERB'), ('their', 'PRON'), ('dream', 'NOUN'), ('of', 'ADP'), ('having', 'VERB'), ('their', 'PRON'), ('own', 'ADJ'), ('ranch', 'NOUN'), ('where', 'SCONJ'), ('Lennie', 'PROPN'), ('will', 'AUX'), ('be', 'AUX'), ('able', 'ADJ'), ('to', 'PART'), ('tend', 'VERB'), ('rabbits', 'NOUN'), ('.', 'PUNCT'), ('George', 'PROPN'), ('does', 'VERB'), ('so', 'ADV'), ('and', 'CCONJ'), ('then', 'ADV'), ('warns', 'VERB'), ('Lennie', 'PROPN'), ('that', 'SCONJ'), (',', 'PUNCT'), ('if', 'SCONJ'), ('anything', 'PRON'), ('bad', 'ADJ'), ('happens', 'VERB'), (',', 'PUNCT'), ('Lennie', 'PROPN'), ('is', 'AUX'), ('to', 'PART'), ('come', 'VERB'), ('back', 'ADV'), ('to', 'ADP'), ('this', 'DET'), ('spot', 'NOUN'), ('and', 'CCONJ'), ('hide', 'VERB'), ('in', 'ADP'), ('the', 'DET'), ('brush', 'NOUN'), ('.', 'PUNCT'), ('Before', 'SCONJ'), ('George', 'PROPN'), ('falls', 'VERB'), ('asleep', 'ADJ'), (',', 'PUNCT'), ('Lennie', 'PROPN'), ('tells', 'VERB'), ('him', 'PRON'), ('they', 'PRON'), ('must', 'AUX'), ('have', 'VERB'), ('many', 'ADJ'), ('rabbits', 'NOUN'), ('of', 'ADP'), ('various', 'ADJ'), ('colors', 'NOUN'), ('.', 'PUNCT')]\n"
     ]
    }
   ],
   "source": [
    "import spacy\n",
    "#import en_core_web_sm\n",
    "text = of_mice_and_men\n",
    "nlp = spacy.load( \"en_core_web_sm\" )\n",
    "t_nlp = nlp( text )\n",
    "POS = [ (token.text,token.pos_) for token in t_nlp ]\n",
    "print( POS )\n"
   ]
  }
 ],
 "metadata": {
  "kernelspec": {
   "display_name": "Python 3.9.12 ('base')",
   "language": "python",
   "name": "python3"
  },
  "language_info": {
   "codemirror_mode": {
    "name": "ipython",
    "version": 3
   },
   "file_extension": ".py",
   "mimetype": "text/x-python",
   "name": "python",
   "nbconvert_exporter": "python",
   "pygments_lexer": "ipython3",
   "version": "3.9.12"
  },
  "orig_nbformat": 4,
  "vscode": {
   "interpreter": {
    "hash": "491aef8a8fe1fe9f8a441ddaa35a7c12cd08c1c8e81373378527ccfe701c40d8"
   }
  }
 },
 "nbformat": 4,
 "nbformat_minor": 2
}
